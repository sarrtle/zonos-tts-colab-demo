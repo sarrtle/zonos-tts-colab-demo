{
  "nbformat": 4,
  "nbformat_minor": 0,
  "metadata": {
    "colab": {
      "provenance": [],
      "gpuType": "T4",
      "authorship_tag": "ABX9TyNiHVc/ziBDIF6s+bOSsz8X",
      "include_colab_link": true
    },
    "kernelspec": {
      "name": "python3",
      "display_name": "Python 3"
    },
    "language_info": {
      "name": "python"
    },
    "accelerator": "GPU"
  },
  "cells": [
    {
      "cell_type": "markdown",
      "metadata": {
        "id": "view-in-github",
        "colab_type": "text"
      },
      "source": [
        "<a href=\"https://colab.research.google.com/github/sarrtle/zonos-tts-colab-demo/blob/main/Zonos_TTS_colab.ipynb\" target=\"_parent\"><img src=\"https://colab.research.google.com/assets/colab-badge.svg\" alt=\"Open In Colab\"/></a>"
      ]
    },
    {
      "cell_type": "code",
      "source": [
        "# Before you start, make sure you run in GPU mode.\n",
        "!git clone https://github.com/Zyphra/Zonos.git temp\n",
        "!mv temp/* .\n",
        "!rm -rf temp\n",
        "# install requirements\n",
        "!uv sync\n",
        "!uv pip install -e .\n",
        "# third party requirement\n",
        "!apt install espeak-ng\n",
        "# download models\n",
        "!uv run sample.py"
      ],
      "metadata": {
        "collapsed": true,
        "id": "yqV_fxDC8D3_"
      },
      "execution_count": null,
      "outputs": []
    },
    {
      "cell_type": "code",
      "source": [
        "import os\n",
        "os.environ[\"GRADIO_SHARE\"] = \"1\"\n",
        "!uv run gradio_interface.py"
      ],
      "metadata": {
        "id": "AxHSnJw-_ikm"
      },
      "execution_count": null,
      "outputs": []
    }
  ]
}